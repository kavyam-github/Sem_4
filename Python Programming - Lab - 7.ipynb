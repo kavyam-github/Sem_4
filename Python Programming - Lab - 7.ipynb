{
 "cells": [
  {
   "cell_type": "markdown",
   "metadata": {},
   "source": [
    "<a href='https://www.darshan.ac.in/'> <img src='https://www.darshan.ac.in/Content/media/DU_Logo.svg' width=\"250\" height=\"300\"/></a>\n",
    "<pre>\n",
    "<center><b><h1>Python Programming - 2301CS40</b>\n",
    "        <b><h1>Kavyam Joshi || 23010101114 || 08/01/2025</b>\n",
    "</center>\n",
    "<center><b><h1>Lab - 7</b></center>    \n",
    "<pre>"
   ]
  },
  {
   "cell_type": "markdown",
   "metadata": {},
   "source": [
    "# Set & Dictionary"
   ]
  },
  {
   "cell_type": "markdown",
   "metadata": {},
   "source": [
    "### 01) WAP to iterate over a set."
   ]
  },
  {
   "cell_type": "code",
   "execution_count": 2,
   "metadata": {},
   "outputs": [
    {
     "name": "stdout",
     "output_type": "stream",
     "text": [
      "1\n",
      "2\n",
      "3\n",
      "4\n",
      "5\n",
      "6\n",
      "7\n",
      "8\n",
      "9\n",
      "10\n"
     ]
    }
   ],
   "source": [
    "s1={1,2,3,4,5,6,7,8,9,10}\n",
    "for i in s1:\n",
    "        print(i)"
   ]
  },
  {
   "cell_type": "markdown",
   "metadata": {},
   "source": [
    "### 02) WAP to convert set into list, string and tuple."
   ]
  },
  {
   "cell_type": "code",
   "execution_count": 4,
   "metadata": {},
   "outputs": [
    {
     "name": "stdout",
     "output_type": "stream",
     "text": [
      "[1, 2, 3, 4, 5, 6, 7, 8, 9, 10]\n",
      "{1, 2, 3, 4, 5, 6, 7, 8, 9, 10}\n",
      "(1, 2, 3, 4, 5, 6, 7, 8, 9, 10)\n"
     ]
    }
   ],
   "source": [
    "s1={1,2,3,4,5,6,7,8,9,10}\n",
    "print(list(s1))\n",
    "print(str(s1))\n",
    "print(tuple(s1))"
   ]
  },
  {
   "cell_type": "markdown",
   "metadata": {},
   "source": [
    "### 03) WAP to find Maximum and Minimum from a set."
   ]
  },
  {
   "cell_type": "code",
   "execution_count": 13,
   "metadata": {},
   "outputs": [
    {
     "name": "stdout",
     "output_type": "stream",
     "text": [
      "Maximun : 10\n",
      "Minimum : 1\n"
     ]
    }
   ],
   "source": [
    "s1={1,2,3,4,5,6,7,8,9,10}\n",
    "print(f'Maximun : {max(s1)}')\n",
    "print(f'Minimum : {min(s1)}')    "
   ]
  },
  {
   "cell_type": "markdown",
   "metadata": {},
   "source": [
    "### 04) WAP to perform union of two sets."
   ]
  },
  {
   "cell_type": "code",
   "execution_count": 14,
   "metadata": {},
   "outputs": [
    {
     "name": "stdout",
     "output_type": "stream",
     "text": [
      "Union of two sets : {0, 1, 2, 3, 4, 5, 6, 7, 8, 33, 44, 22}\n"
     ]
    }
   ],
   "source": [
    "s1={1,2,3,4,5,6,7,8,0}\n",
    "s2={22,33,44,2,3,4,0}\n",
    "print(f'Union of two sets : {s1|s2}')"
   ]
  },
  {
   "cell_type": "markdown",
   "metadata": {},
   "source": [
    "### 05) WAP to check if two lists have at-least one element common."
   ]
  },
  {
   "cell_type": "code",
   "execution_count": 18,
   "metadata": {},
   "outputs": [
    {
     "name": "stdout",
     "output_type": "stream",
     "text": [
      "Common Elements : [1, 2, 3]\n"
     ]
    }
   ],
   "source": [
    "l1=[1,2,3,4,5,6,7,8,9]\n",
    "l2=[11,22,44,1,2,3]\n",
    "#common = list(set(l1) & set(l2))\n",
    "common=[x for x in l1 if x in l2]\n",
    "print(f'Common Elements : {common}')"
   ]
  },
  {
   "cell_type": "markdown",
   "metadata": {},
   "source": [
    "### 06) WAP to remove duplicates from list."
   ]
  },
  {
   "cell_type": "code",
   "execution_count": 20,
   "metadata": {},
   "outputs": [
    {
     "name": "stdout",
     "output_type": "stream",
     "text": [
      "Removed Duplicated Words are : {'Mango', 'Banana', 'Apple'}\n"
     ]
    }
   ],
   "source": [
    "l1=('Mango','Apple','Banana','Mango')\n",
    "print(f'Removed Duplicated Words are : {set(l1)}')"
   ]
  },
  {
   "cell_type": "markdown",
   "metadata": {},
   "source": [
    "### 07) WAP to find unique words in the given string."
   ]
  },
  {
   "cell_type": "code",
   "execution_count": 19,
   "metadata": {},
   "outputs": [
    {
     "name": "stdout",
     "output_type": "stream",
     "text": [
      "Unique Words : {'Mango', 'Banana', 'Apple'}\n"
     ]
    }
   ],
   "source": [
    "l1=('Mango','Apple','Banana','Mango')\n",
    "print(f'Unique Words : {set(l1)}')"
   ]
  },
  {
   "cell_type": "markdown",
   "metadata": {},
   "source": [
    "### 08) WAP to remove common elements of set A & B from set A."
   ]
  },
  {
   "cell_type": "code",
   "execution_count": 21,
   "metadata": {},
   "outputs": [
    {
     "name": "stdout",
     "output_type": "stream",
     "text": [
      "Remove common elements are : {4, 5, 6, 7, 8, 9, 11, 44, 22}\n"
     ]
    }
   ],
   "source": [
    "l1={1,2,3,4,5,6,7,8,9}\n",
    "l2={11,22,44,1,2,3}\n",
    "print(f'Remove common elements are : {set(l1^l2)}')\n"
   ]
  },
  {
   "cell_type": "markdown",
   "metadata": {},
   "source": [
    "### 09) WAP to check whether two given strings are anagram or not using set."
   ]
  },
  {
   "cell_type": "code",
   "execution_count": 31,
   "metadata": {},
   "outputs": [
    {
     "name": "stdout",
     "output_type": "stream",
     "text": [
      "{'t', 'u', 'b'} and {'t', 'u', 'b'} entered string are anagram\n"
     ]
    }
   ],
   "source": [
    "l1=('Tub')\n",
    "l2=('But')\n",
    "a=set(l1.lower())\n",
    "b=set(l2.lower())\n",
    "if(a == b):\n",
    "    print(f'{a} and {b} entered string are anagram')\n",
    "else:\n",
    "    print(f'{a} and {b} entered string are not anagram')"
   ]
  },
  {
   "cell_type": "markdown",
   "metadata": {},
   "source": [
    "### 10) WAP to find common elements in three lists using set."
   ]
  },
  {
   "cell_type": "code",
   "execution_count": 30,
   "metadata": {},
   "outputs": [
    {
     "name": "stdout",
     "output_type": "stream",
     "text": [
      "Common elements in three list {1, 2, 3}\n"
     ]
    }
   ],
   "source": [
    "l1=[1,2,3,4,5,6,7,8,9]\n",
    "l2=[11,22,44,1,2,3]\n",
    "l3=[56,78,00,1,6,9,2,108,3]\n",
    "print(f'Common elements in three list {set(l1)&set(l2)&set(l3)}')"
   ]
  },
  {
   "cell_type": "markdown",
   "metadata": {},
   "source": [
    "### 11) WAP to count number of vowels in given string using set."
   ]
  },
  {
   "cell_type": "code",
   "execution_count": 40,
   "metadata": {},
   "outputs": [
    {
     "name": "stdout",
     "output_type": "stream",
     "text": [
      "Number of vowels: 4\n"
     ]
    }
   ],
   "source": [
    "s1 = 'Kavyam Joshi'\n",
    "count = 0\n",
    "for i in s1:\n",
    "    if i.lower() in {'a', 'e', 'i', 'o', 'u'}:\n",
    "        count += 1\n",
    "if count > 0:\n",
    "    print(f\"Number of vowels: {count}\")\n",
    "else:\n",
    "    print(\"No vowels\")"
   ]
  },
  {
   "cell_type": "markdown",
   "metadata": {},
   "source": [
    "### 12) WAP to check if a given string is binary string or not."
   ]
  },
  {
   "cell_type": "code",
   "execution_count": 2,
   "metadata": {},
   "outputs": [
    {
     "name": "stdin",
     "output_type": "stream",
     "text": [
      "Enter a string:  kav01\n"
     ]
    },
    {
     "name": "stdout",
     "output_type": "stream",
     "text": [
      "\"kav01\" is not a binary string.\n"
     ]
    }
   ],
   "source": [
    "# Input string\n",
    "string = input(\"Enter a string: \")\n",
    "is_binary = all(char in '01' for char in string)\n",
    "if is_binary:\n",
    "    print(f'\"{string}\" is a binary string.')\n",
    "else:\n",
    "    print(f'\"{string}\" is not a binary string.')"
   ]
  },
  {
   "cell_type": "markdown",
   "metadata": {},
   "source": [
    "### 13) WAP to sort dictionary by key or value."
   ]
  },
  {
   "cell_type": "code",
   "execution_count": 3,
   "metadata": {},
   "outputs": [
    {
     "name": "stdout",
     "output_type": "stream",
     "text": [
      "Dictionary sorted by keys:\n",
      "{'apple': 5, 'banana': 3, 'cherry': 2, 'date': 4}\n",
      "\n",
      "Dictionary sorted by values:\n",
      "{'cherry': 2, 'banana': 3, 'date': 4, 'apple': 5}\n"
     ]
    }
   ],
   "source": [
    "my_dict = {'banana': 3, 'apple': 5, 'cherry': 2, 'date': 4}\n",
    "\n",
    "# Sorting by keys\n",
    "sorted_by_keys = {k: my_dict[k] for k in sorted(my_dict)}\n",
    "print(\"Dictionary sorted by keys:\")\n",
    "print(sorted_by_keys)\n",
    "\n",
    "# Sorting by values\n",
    "sorted_by_values = {k: v for k, v in sorted(my_dict.items(), key=lambda item: item[1])}\n",
    "print(\"\\nDictionary sorted by values:\")\n",
    "print(sorted_by_values)"
   ]
  },
  {
   "cell_type": "markdown",
   "metadata": {},
   "source": [
    "### 14) WAP to find the sum of all items (values) in a dictionary given by user. (Assume: values are numeric)"
   ]
  },
  {
   "cell_type": "code",
   "execution_count": 5,
   "metadata": {},
   "outputs": [
    {
     "name": "stdin",
     "output_type": "stream",
     "text": [
      "Enter a dictionary (e.g., {'a': 10, 'b': 20}):  {'a': 10, 'b': 20}\n"
     ]
    },
    {
     "name": "stdout",
     "output_type": "stream",
     "text": [
      "The sum of all values in the dictionary is: 30\n"
     ]
    }
   ],
   "source": [
    "user_input = input(\"Enter a dictionary (e.g., {'a': 10, 'b': 20}): \")\n",
    "user_dict = eval(user_input)\n",
    "if all(isinstance(value, (int, float)) for value in user_dict.values()):\n",
    "    total_sum = sum(user_dict.values())\n",
    "    print(f\"The sum of all values in the dictionary is: {total_sum}\")\n",
    "else:\n",
    "    print(\"All values in the dictionary must be numeric.\")"
   ]
  },
  {
   "cell_type": "markdown",
   "metadata": {},
   "source": [
    "### 15) WAP to handle missing keys in dictionaries.\n",
    "#### Example : Given, dict1 = {'a': 5, 'c': 8, 'e': 2} \n",
    "#### if you look for key = 'd', the message given should be 'Key Not Found', otherwise print the value of 'd' in dict1."
   ]
  },
  {
   "cell_type": "code",
   "execution_count": 6,
   "metadata": {},
   "outputs": [
    {
     "name": "stdin",
     "output_type": "stream",
     "text": [
      "Enter the key to search in the dictionary:  a\n"
     ]
    },
    {
     "name": "stdout",
     "output_type": "stream",
     "text": [
      "The value of 'a' is: 5\n"
     ]
    }
   ],
   "source": [
    "dict1 = {'a': 5, 'c': 8, 'e': 2}\n",
    "key = input(\"Enter the key to search in the dictionary: \")\n",
    "if key in dict1:\n",
    "    print(f\"The value of '{key}' is: {dict1[key]}\")\n",
    "else:\n",
    "    print(\"Key Not Found\")"
   ]
  }
 ],
 "metadata": {
  "kernelspec": {
   "display_name": "Python 3 (ipykernel)",
   "language": "python",
   "name": "python3"
  },
  "language_info": {
   "codemirror_mode": {
    "name": "ipython",
    "version": 3
   },
   "file_extension": ".py",
   "mimetype": "text/x-python",
   "name": "python",
   "nbconvert_exporter": "python",
   "pygments_lexer": "ipython3",
   "version": "3.12.7"
  }
 },
 "nbformat": 4,
 "nbformat_minor": 4
}
