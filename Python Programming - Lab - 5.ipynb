{
 "cells": [
  {
   "cell_type": "markdown",
   "metadata": {},
   "source": [
    "\n",
    "<a href='https://www.darshan.ac.in/'> <img src='https://www.darshan.ac.in/Content/media/DU_Logo.svg' width=\"250\" height=\"300\"/></a>\n",
    "<pre>\n",
    "<center><b><h1>Python Programming - 2301CS404</b></center>\n",
    "<center><b><h1>Kavyam Joshi | 23010101114 | 01/01/2025</b></center>\n",
    "<center><b><h1>Lab - 5</b></center>\n",
    "<pre>"
   ]
  },
  {
   "cell_type": "markdown",
   "metadata": {},
   "source": [
    "# List"
   ]
  },
  {
   "cell_type": "markdown",
   "metadata": {},
   "source": [
    "### 01) WAP to find sum of all the elements in a List."
   ]
  },
  {
   "cell_type": "code",
   "execution_count": 1,
   "metadata": {},
   "outputs": [
    {
     "name": "stdout",
     "output_type": "stream",
     "text": [
      "15\n"
     ]
    }
   ],
   "source": [
    "l1=[1,2,3,4,5]\n",
    "print(sum(l1))"
   ]
  },
  {
   "cell_type": "markdown",
   "metadata": {},
   "source": [
    "### 02) WAP to find largest element in a List."
   ]
  },
  {
   "cell_type": "code",
   "execution_count": 2,
   "metadata": {},
   "outputs": [
    {
     "name": "stdout",
     "output_type": "stream",
     "text": [
      "5\n"
     ]
    }
   ],
   "source": [
    "l1=[1,2,3,4,5]\n",
    "print(max(l1))"
   ]
  },
  {
   "cell_type": "markdown",
   "metadata": {},
   "source": [
    "### 03) WAP to find the length of a List."
   ]
  },
  {
   "cell_type": "code",
   "execution_count": 3,
   "metadata": {},
   "outputs": [
    {
     "name": "stdout",
     "output_type": "stream",
     "text": [
      "5\n"
     ]
    }
   ],
   "source": [
    "l1=[1,2,3,4,5]\n",
    "print(len(l1))"
   ]
  },
  {
   "cell_type": "raw",
   "metadata": {},
   "source": [
    " 04) WAP to interchange first and last elements in a list."
   ]
  },
  {
   "cell_type": "code",
   "execution_count": 4,
   "metadata": {},
   "outputs": [
    {
     "name": "stdout",
     "output_type": "stream",
     "text": [
      "[10, 2, 3, 4, 5, 6, 7, 8, 9, 1]\n"
     ]
    }
   ],
   "source": [
    "l1=[1,2,3,4,5,6,7,8,9,10]\n",
    "l1[0],l1[-1]=l1[-1],l1[0]\n",
    "print(l1)"
   ]
  },
  {
   "cell_type": "markdown",
   "metadata": {},
   "source": [
    "### 05) WAP to split the List into two parts and append the first part to the end."
   ]
  },
  {
   "cell_type": "code",
   "execution_count": 8,
   "metadata": {},
   "outputs": [
    {
     "name": "stdout",
     "output_type": "stream",
     "text": [
      "['Darshan', 'University', 'Hello', 'World']\n"
     ]
    }
   ],
   "source": [
    "l1=['Hello','World','Darshan','University']\n",
    "Mid=len(l1)//2\n",
    "x=l1[:Mid]\n",
    "y=l1[Mid:]\n",
    "print(y+x);"
   ]
  },
  {
   "cell_type": "markdown",
   "metadata": {},
   "source": [
    "06) WAP to interchange the elements on two positions entered by a user."
   ]
  },
  {
   "cell_type": "code",
   "execution_count": 13,
   "metadata": {},
   "outputs": [
    {
     "name": "stdout",
     "output_type": "stream",
     "text": [
      "Enter Length of List :  5\n",
      "Enter elements of list 1:  1\n",
      "Enter elements of list 2:  2\n",
      "Enter elements of list 3:  3\n",
      "Enter elements of list 4:  4\n",
      "Enter elements of list 5:  5\n",
      "Enter First Position :  1\n",
      "Enter Second Positon :  4\n"
     ]
    },
    {
     "name": "stdout",
     "output_type": "stream",
     "text": [
      "List after interchage is : [4, 2, 3, 1, 5]\n"
     ]
    }
   ],
   "source": [
    "n=int(input(\"Enter Length of List : \"))\n",
    "l1=[]\n",
    "for i in range(n):\n",
    "    a=int(input(f\"Enter elements of list {i+1}: \"))\n",
    "    l1.append(a)\n",
    "n1=int(input(\"Enter First Position : \"))\n",
    "n2=int(input(\"Enter Second Positon : \"))\n",
    "l1[n1-1],l1[n2-1]=l1[n2-1],l1[n1-1]\n",
    "print(f'List after interchage is : {l1}')"
   ]
  },
  {
   "cell_type": "markdown",
   "metadata": {},
   "source": [
    "### 07) WAP to reverse the list entered by user."
   ]
  },
  {
   "cell_type": "code",
   "execution_count": 14,
   "metadata": {},
   "outputs": [
    {
     "name": "stdout",
     "output_type": "stream",
     "text": [
      "Enter Length of List :  5\n",
      "Enter elements of list 1:  10\n",
      "Enter elements of list 2:  20\n",
      "Enter elements of list 3:  30\n",
      "Enter elements of list 4:  40\n",
      "Enter elements of list 5:  50\n"
     ]
    },
    {
     "name": "stdout",
     "output_type": "stream",
     "text": [
      "Reverse list is : [50, 40, 30, 20, 10]\n"
     ]
    }
   ],
   "source": [
    "n=int(input(\"Enter Length of List : \"))\n",
    "l1=[]\n",
    "for i in range(n):\n",
    "    a=int(input(f\"Enter elements of list {i+1}: \"))\n",
    "    l1.append(a)\n",
    "l2=l1[::-1]\n",
    "print(f'Reverse list is : {l2}')"
   ]
  },
  {
   "cell_type": "markdown",
   "metadata": {},
   "source": [
    "### 08) WAP to print even numbers in a list."
   ]
  },
  {
   "cell_type": "code",
   "execution_count": 15,
   "metadata": {},
   "outputs": [
    {
     "name": "stdout",
     "output_type": "stream",
     "text": [
      "Enter Length of List :  5\n",
      "Enter elements of list 1:  10\n",
      "Enter elements of list 2:  9\n",
      "Enter elements of list 3:  7\n",
      "Enter elements of list 4:  2\n",
      "Enter elements of list 5:  55\n"
     ]
    },
    {
     "name": "stdout",
     "output_type": "stream",
     "text": [
      "Even number in list : [10, 2]\n"
     ]
    }
   ],
   "source": [
    "n=int(input(\"Enter Length of List : \"))\n",
    "l1=[]\n",
    "for i in range(n):\n",
    "    a=int(input(f\"Enter elements of list {i+1}: \"))\n",
    "    l1.append(a)\n",
    "l2=[i for i in l1 if(i%2==0)]\n",
    "print(f'Even number in list : {l2}')"
   ]
  },
  {
   "cell_type": "markdown",
   "metadata": {},
   "source": [
    "### 09) WAP to count unique items in a list."
   ]
  },
  {
   "cell_type": "code",
   "execution_count": 18,
   "metadata": {},
   "outputs": [
    {
     "name": "stdout",
     "output_type": "stream",
     "text": [
      "Enter Length of List :  8\n",
      "Enter elements of list 1:  1\n",
      "Enter elements of list 2:  1\n",
      "Enter elements of list 3:  2\n",
      "Enter elements of list 4:  4\n",
      "Enter elements of list 5:  5\n",
      "Enter elements of list 6:  6\n",
      "Enter elements of list 7:  38\n",
      "Enter elements of list 8:  7\n"
     ]
    },
    {
     "name": "stdout",
     "output_type": "stream",
     "text": [
      "Count of Unique list is : 7\n"
     ]
    }
   ],
   "source": [
    "n=int(input(\"Enter Length of List : \"))\n",
    "l1=[]\n",
    "for i in range(n):\n",
    "    a=int(input(f\"Enter elements of list {i+1}: \"))\n",
    "    l1.append(a)\n",
    "l2=[]\n",
    "count=0\n",
    "for i in l1:\n",
    "    if i not in l2:\n",
    "        count+=1;\n",
    "        l2.append(i)\n",
    "print(f'Count of Unique list is : {count}')"
   ]
  },
  {
   "cell_type": "markdown",
   "metadata": {},
   "source": [
    "### 10) WAP to copy a list."
   ]
  },
  {
   "cell_type": "code",
   "execution_count": 19,
   "metadata": {},
   "outputs": [
    {
     "name": "stdout",
     "output_type": "stream",
     "text": [
      "Enter Length of List :  5\n",
      "Enter elements of list 1:  10\n",
      "Enter elements of list 2:  20\n",
      "Enter elements of list 3:  30\n",
      "Enter elements of list 4:  50\n",
      "Enter elements of list 5:  100\n"
     ]
    },
    {
     "name": "stdout",
     "output_type": "stream",
     "text": [
      "Copying list : [10, 20, 30, 50, 100]\n"
     ]
    }
   ],
   "source": [
    "n=int(input(\"Enter Length of List : \"))\n",
    "l1=[]\n",
    "for i in range(n):\n",
    "    a=int(input(f\"Enter elements of list {i+1}: \"))\n",
    "    l1.append(a)\n",
    "l2=l1.copy()\n",
    "print(f'Copying list : {l2}')"
   ]
  },
  {
   "cell_type": "markdown",
   "metadata": {},
   "source": [
    "### 11) WAP to print all odd numbers in a given range."
   ]
  },
  {
   "cell_type": "code",
   "execution_count": 25,
   "metadata": {},
   "outputs": [
    {
     "name": "stdout",
     "output_type": "stream",
     "text": [
      "Enter Starting Index:  10\n",
      "Enter Ending Index:  20\n"
     ]
    },
    {
     "name": "stdout",
     "output_type": "stream",
     "text": [
      "[11, 13, 15, 17, 19]\n"
     ]
    }
   ],
   "source": [
    "n1=int(input(\"Enter Starting Index: \"))\n",
    "n2=int(input(\"Enter Ending Index: \"))\n",
    "l1=[]\n",
    "for i in range(n1,n2):\n",
    "    if(i%2!=0):\n",
    "        l1.append(i)\n",
    "print(l1)"
   ]
  },
  {
   "cell_type": "markdown",
   "metadata": {},
   "source": [
    "### 12) WAP to count occurrences of an element in a list."
   ]
  },
  {
   "cell_type": "code",
   "execution_count": 27,
   "metadata": {},
   "outputs": [
    {
     "name": "stdout",
     "output_type": "stream",
     "text": [
      "Enter Length of List :  5\n",
      "Enter elements of list 1:  1\n",
      "Enter elements of list 2:  1\n",
      "Enter elements of list 3:  1\n",
      "Enter elements of list 4:  4\n",
      "Enter elements of list 5:  5\n",
      "Entered a number  1\n"
     ]
    },
    {
     "name": "stdout",
     "output_type": "stream",
     "text": [
      "Count occurrence of an element : 3\n"
     ]
    }
   ],
   "source": [
    "n=int(input(\"Enter Length of List : \"))\n",
    "l1=[]\n",
    "for i in range(n):\n",
    "    a=int(input(f\"Enter elements of list {i+1}: \"))\n",
    "    l1.append(a)\n",
    "k=int(input('Entered a number '));\n",
    "print(f'Count occurrence of an element : {l1.count(k)}');"
   ]
  },
  {
   "cell_type": "markdown",
   "metadata": {},
   "source": [
    "### 13) WAP to find second largest number in a list."
   ]
  },
  {
   "cell_type": "code",
   "execution_count": null,
   "metadata": {},
   "outputs": [],
   "source": [
    "n=int(input(\"Enter Length of List : \"))\n",
    "l1=[]\n",
    "for i in range(n):\n",
    "    a=int(input(f\"Enter elements of list {i+1}: \"))\n",
    "    l1.append(a)\n",
    "l1.sort()\n",
    "l2=l1[len(l1)-2]\n",
    "print(l2);"
   ]
  },
  {
   "cell_type": "markdown",
   "metadata": {},
   "source": [
    "### 14) WAP to extract elements with frequency greater than K."
   ]
  },
  {
   "cell_type": "code",
   "execution_count": null,
   "metadata": {},
   "outputs": [],
   "source": [
    "list = []\n",
    "flag = True\n",
    "while flag == True:\n",
    "    element = input('Enter a element for list (Enter \"f\" to terminate): ')\n",
    "    if element == 'f':\n",
    "        break\n",
    "    else:\n",
    "        element = int(element)\n",
    "    list.append(element)\n",
    "\n",
    "k = int(input('Enter the frequency: '))\n",
    "\n",
    "frequencyDict = {}\n",
    "for i in list:\n",
    "    if i in frequencyDict:\n",
    "        frequencyDict[i] += 1\n",
    "    else:\n",
    "        frequencyDict[i] = 1\n",
    "            \n",
    "result = [key for key, value in frequencyDict.items() if value > k]\n",
    "print(f'The element that occured more than {k} times are: {result}')\n"
   ]
  },
  {
   "cell_type": "markdown",
   "metadata": {},
   "source": [
    "### 15) WAP to create a list of squared numbers from 0 to 9 with and without using List Comprehension."
   ]
  },
  {
   "cell_type": "code",
   "execution_count": null,
   "metadata": {},
   "outputs": [],
   "source": [
    "## With List Comprehension\n",
    "l1=[i**2 for i in range(10)]\n",
    "print(l1)\n",
    "\n",
    "## Without List Comprehen\n",
    "l2=[]\n",
    "for i in range(10):\n",
    "    list.append(i**2)\n",
    "print(l2)"
   ]
  },
  {
   "cell_type": "markdown",
   "metadata": {},
   "source": [
    "### 16) WAP to create a new list (fruit whose name starts with 'b') from the list of fruits given by user."
   ]
  },
  {
   "cell_type": "code",
   "execution_count": null,
   "metadata": {},
   "outputs": [],
   "source": [
    "fruit_list=[]\n",
    "terminate= True\n",
    "while terminate == True\n",
    "    element = input('Enter a fruit for list (\"Enter f to terminate : \")')\n",
    "    if element =='f':\n",
    "        break;\n",
    "        fruit_list.append(element)\n",
    "b_fruit =[i for i in fruit_list if i.lower().startwith('b')]\n",
    "print(f'fruit with same name start with b : {b_fruit}')"
   ]
  },
  {
   "cell_type": "markdown",
   "metadata": {},
   "source": [
    "### 17) WAP to create a list of common elements from given two lists."
   ]
  },
  {
   "cell_type": "code",
   "execution_count": null,
   "metadata": {},
   "outputs": [],
   "source": [
    "list1 = []\n",
    "flag = True\n",
    "while flag == True:\n",
    "    element = input('Enter a element for list1 (Enter \"f\" to terminate): ')\n",
    "    if element == 'f':\n",
    "        break\n",
    "    else:\n",
    "        element = int(element)\n",
    "    list1.append(element)\n",
    "\n",
    "list2 = []\n",
    "flag = True\n",
    "while flag == True:\n",
    "    element = input('Enter a element for list2 (Enter \"f\" to terminate): ')\n",
    "    if element == 'f':\n",
    "        break\n",
    "    else:\n",
    "        element = int(element)\n",
    "    list2.append(element)\n",
    "\n",
    "common = [element for element in list1 if element in list2]\n",
    "print(f'Enter common elements in both list are: {common}')"
   ]
  }
 ],
 "metadata": {
  "kernelspec": {
   "display_name": "Python 3 (ipykernel)",
   "language": "python",
   "name": "python3"
  },
  "language_info": {
   "codemirror_mode": {
    "name": "ipython",
    "version": 3
   },
   "file_extension": ".py",
   "mimetype": "text/x-python",
   "name": "python",
   "nbconvert_exporter": "python",
   "pygments_lexer": "ipython3",
   "version": "3.12.7"
  }
 },
 "nbformat": 4,
 "nbformat_minor": 4
}
