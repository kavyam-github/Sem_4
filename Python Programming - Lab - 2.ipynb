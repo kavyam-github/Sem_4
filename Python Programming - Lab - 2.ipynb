{
 "cells": [
  {
   "cell_type": "markdown",
   "metadata": {},
   "source": [
    "\n",
    "<a href='https://www.darshan.ac.in/'> <img src='https://www.darshan.ac.in/Content/media/DU_Logo.svg' width=\"250\" height=\"300\"/></a>\n",
    "<pre>\n",
    "<center><b><h1>Python Programming - 2301CS404</b></center>\n",
    "<center><b><h1>Lab - 2</b>\n",
    "<center><b><h1>Kavyam Joshi | 23010101114 | 04-12-2024</b>\n",
    "\n",
    "</center>    \n",
    "<pre>"
   ]
  },
  {
   "cell_type": "markdown",
   "metadata": {},
   "source": [
    "# if..else.."
   ]
  },
  {
   "cell_type": "markdown",
   "metadata": {},
   "source": [
    "### 01) WAP to check whether the given number is positive or negative."
   ]
  },
  {
   "cell_type": "code",
   "execution_count": 4,
   "metadata": {},
   "outputs": [
    {
     "name": "stdin",
     "output_type": "stream",
     "text": [
      "enter number :  -10\n"
     ]
    },
    {
     "name": "stdout",
     "output_type": "stream",
     "text": [
      "entered number is negative\n"
     ]
    }
   ],
   "source": [
    "n=int(input(\"enter number : \"))\n",
    "if(n>=0):\n",
    "    print(\"entered number is positive\")\n",
    "else:\n",
    "    print(\"entered number is negative\")"
   ]
  },
  {
   "cell_type": "markdown",
   "metadata": {},
   "source": [
    "### 02) WAP to check whether the given number is odd or even."
   ]
  },
  {
   "cell_type": "code",
   "execution_count": 14,
   "metadata": {},
   "outputs": [
    {
     "name": "stdin",
     "output_type": "stream",
     "text": [
      "enter number :  33\n"
     ]
    },
    {
     "name": "stdout",
     "output_type": "stream",
     "text": [
      "entered number is odd\n"
     ]
    }
   ],
   "source": [
    "n=int(input(\"enter number : \"))\n",
    "if(n%2==0):\n",
    "    print(\"entered number is even\")\n",
    "else:\n",
    "    print(\"entered number is odd\")"
   ]
  },
  {
   "cell_type": "markdown",
   "metadata": {},
   "source": [
    "### 03) WAP to find out largest number from given two numbers using simple if and ternary operator."
   ]
  },
  {
   "cell_type": "code",
   "execution_count": 28,
   "metadata": {},
   "outputs": [
    {
     "name": "stdin",
     "output_type": "stream",
     "text": [
      "enter first number :  10\n",
      "enter second number :  5\n"
     ]
    },
    {
     "name": "stdout",
     "output_type": "stream",
     "text": [
      "Largest number is 10\n"
     ]
    },
    {
     "name": "stdin",
     "output_type": "stream",
     "text": [
      "enter first number :  15\n",
      "enter second number :  20\n"
     ]
    },
    {
     "name": "stdout",
     "output_type": "stream",
     "text": [
      "Largest number is 20\n"
     ]
    }
   ],
   "source": [
    "# if...else..\n",
    "n=int(input(\"enter first number : \"))\n",
    "a=int(input(\"enter second number : \"))\n",
    "if(n>a):\n",
    "    print(f\"Largest number is {n}\")\n",
    "else:\n",
    "    print(f\"Largest number is {a}\")\n",
    "\n",
    "# ternary\n",
    "b=int(input(\"enter first number : \"))\n",
    "c=int(input(\"enter second number : \"))\n",
    "ans=f\"Largest number is {b}\" if b>c else f\"Largest number is {c}\"\n",
    "print(ans)"
   ]
  },
  {
   "cell_type": "markdown",
   "metadata": {},
   "source": [
    "### 04) WAP to find out largest number from given three numbers."
   ]
  },
  {
   "cell_type": "code",
   "execution_count": 42,
   "metadata": {},
   "outputs": [
    {
     "name": "stdin",
     "output_type": "stream",
     "text": [
      "enter first number :  10\n",
      "enter second number :  20\n",
      "enter third number :  30\n"
     ]
    },
    {
     "name": "stdout",
     "output_type": "stream",
     "text": [
      "Largest is 30\n"
     ]
    }
   ],
   "source": [
    "n1=int(input(\"enter first number : \"))\n",
    "n2=int(input(\"enter second number : \"))\n",
    "n3=int(input(\"enter third number : \"))\n",
    "if(n1>=n2):\n",
    "    if(n1>=n3):\n",
    "        print(f\"Largest is {n1}\")\n",
    "    else:\n",
    "        print(f\"Largest is {n3}\")\n",
    "else:\n",
    "    if(n2>=n3):\n",
    "        print(f\"Largest is {n2}\")\n",
    "    else:\n",
    "        print(f\"Largest is {n3}\")"
   ]
  },
  {
   "cell_type": "markdown",
   "metadata": {},
   "source": [
    "### 05) WAP to check whether the given year is leap year or not.\n",
    "[If a year can be divisible by 4 but not divisible by 100 then it is leap year but if it is divisible by 400 then it is leap year]"
   ]
  },
  {
   "cell_type": "code",
   "execution_count": 58,
   "metadata": {},
   "outputs": [
    {
     "name": "stdin",
     "output_type": "stream",
     "text": [
      "Enter year:  2017\n"
     ]
    },
    {
     "name": "stdout",
     "output_type": "stream",
     "text": [
      "2017 is not Leap year\n"
     ]
    }
   ],
   "source": [
    "year=int(input(\"Enter year: \"))\n",
    "if((year%4==0 and year%100 !=0) or year%400==0):\n",
    "    print(f\"{year} is Leap Year\")\n",
    "else:\n",
    "    print(f\"{year} is not Leap year\")"
   ]
  },
  {
   "cell_type": "markdown",
   "metadata": {},
   "source": [
    "### 06) WAP in python to display the name of the day according to the number given by the user."
   ]
  },
  {
   "cell_type": "markdown",
   "metadata": {},
   "source": [
    "### 07) WAP to implement simple calculator which performs (add,sub,mul,div) of two no. based on user input."
   ]
  },
  {
   "cell_type": "code",
   "execution_count": 54,
   "metadata": {},
   "outputs": [
    {
     "name": "stdin",
     "output_type": "stream",
     "text": [
      "enter first number 5\n",
      "enter second number 5\n",
      "enter operator *\n"
     ]
    },
    {
     "name": "stdout",
     "output_type": "stream",
     "text": [
      "multiplication of (5, 5) is: 25 \n"
     ]
    }
   ],
   "source": [
    "a=int(input(\"enter first number\"))\n",
    "b=int(input(\"enter second number\"))\n",
    "opt=str(input(\"enter operator\"))\n",
    "if(opt==\"+\"):\n",
    "    print(f\"Addition of {a,b} is: {a+b} \")\n",
    "elif(opt==\"-\"):\n",
    "    print(f\"Subtraction of {a,b} is: {a-b} \")\n",
    "elif(opt==\"*\"):\n",
    "     print(f\"multiplication of {a,b} is: {a*b} \")\n",
    "elif(opt==\"/\"):\n",
    "     print(f\"Division of {a,b} is: {a/b} \")"
   ]
  },
  {
   "cell_type": "markdown",
   "metadata": {},
   "source": [
    "### 08) WAP to read marks of five subjects. Calculate percentage and print class accordingly. \n",
    "Fail below 35 </br>\n",
    "Pass Class between 35 to 45 </br>\n",
    "Second Class</br>\n",
    "between 45 to 60</br>\n",
    "First Class between 60 to 70</br> \n",
    "Distinction if more than 70"
   ]
  },
  {
   "cell_type": "code",
   "execution_count": 60,
   "metadata": {},
   "outputs": [
    {
     "name": "stdin",
     "output_type": "stream",
     "text": [
      "Enter marks of subject 1 :  55\n",
      "Enter marks of subject 2 :  66\n",
      "Enter marks of subject 3 :  77\n",
      "Enter marks of subject 4 :  88\n",
      "Enter marks of subject 5 :  99\n"
     ]
    },
    {
     "name": "stdout",
     "output_type": "stream",
     "text": [
      "Percentage is 77.0\n",
      "Distinction\n"
     ]
    }
   ],
   "source": [
    "m1=float(input(\"Enter marks of subject 1 : \"))\n",
    "m2=float(input(\"Enter marks of subject 2 : \"))\n",
    "m3=float(input(\"Enter marks of subject 3 : \"))\n",
    "m4=float(input(\"Enter marks of subject 4 : \"))\n",
    "m5=float(input(\"Enter marks of subject 5 : \"))\n",
    "ans=(m1+m2+m3+m4+m5)/5\n",
    "print(f\"Percentage is {ans}\")\n",
    "if(ans<35):\n",
    "    print(\"Fail\")\n",
    "elif(ans>=35 and ans<45):\n",
    "    print(\"Pass\")\n",
    "elif(ans>=45 and ans<60):\n",
    "    print(\"Second Class\")\n",
    "elif(ans>=60 and ans<70):\n",
    "    print(\"First Class\")\n",
    "elif(ans>=70):\n",
    "    print(\"Distinction\")"
   ]
  },
  {
   "cell_type": "markdown",
   "metadata": {},
   "source": [
    "### 09) Three sides of a triangle are entered through the keyboard, WAP to check whether the triangle is isosceles, equilateral, scalene or right-angled triangle."
   ]
  },
  {
   "cell_type": "code",
   "execution_count": null,
   "metadata": {},
   "outputs": [],
   "source": []
  },
  {
   "cell_type": "code",
   "execution_count": 74,
   "metadata": {},
   "outputs": [
    {
     "name": "stdin",
     "output_type": "stream",
     "text": [
      "Enter number :  7\n"
     ]
    },
    {
     "name": "stdout",
     "output_type": "stream",
     "text": [
      "Sunday\n"
     ]
    }
   ],
   "source": [
    "day=int(input(\"Enter number : \"))\n",
    "\n",
    "match day:\n",
    "\n",
    "    case 1:\n",
    "        print(\"Monday\")\n",
    "    case 2:\n",
    "        print(\"Tuesday\")\n",
    "    case 3:\n",
    "        print(\"Wednesday\")\n",
    "    case 4:\n",
    "        print(\"Thursday\")\n",
    "    case 5:\n",
    "        print(\"Friday\")\n",
    "    case 6:\n",
    "        print(\"Saturday\")\n",
    "    case 7:\n",
    "        print(\"Sunday\")\n",
    "    case _:\n",
    "        print(\"Invalid number\")"
   ]
  },
  {
   "cell_type": "markdown",
   "metadata": {},
   "source": [
    "### 10) WAP to find the second largest number among three user input numbers."
   ]
  },
  {
   "cell_type": "code",
   "execution_count": 3,
   "metadata": {},
   "outputs": [
    {
     "name": "stdin",
     "output_type": "stream",
     "text": [
      "Enter the first number:  78\n",
      "Enter the second number:  55\n",
      "Enter the third number:  10\n"
     ]
    },
    {
     "name": "stdout",
     "output_type": "stream",
     "text": [
      "Third number is second largest\n"
     ]
    }
   ],
   "source": [
    "a = int(input('Enter the first number: '))\n",
    "b = int(input('Enter the second number: '))\n",
    "c = int(input('Enter the third number: '))\n",
    "\n",
    "if (a > b and a < c):\n",
    "    print('First number is second largest');\n",
    "elif (b > a and b < c):\n",
    "    print('Second number is second largest');\n",
    "else:\n",
    "    print('Third number is second largest');"
   ]
  },
  {
   "cell_type": "markdown",
   "metadata": {},
   "source": [
    "### 11) WAP to calculate electricity bill based on following criteria. Which takes the unit from the user.\n",
    "a. First 1 to 50 units – Rs. 2.60/unit</br>\n",
    "b. Next 50 to 100 units – Rs. 3.25/unit</br>\n",
    "c. Next 100 to 200 units – Rs. 5.26/unit</br>\n",
    "d. above 200 units – Rs. 8.45/unit"
   ]
  },
  {
   "cell_type": "code",
   "execution_count": 1,
   "metadata": {},
   "outputs": [
    {
     "name": "stdin",
     "output_type": "stream",
     "text": [
      "Enter the number of units:  50\n"
     ]
    },
    {
     "name": "stdout",
     "output_type": "stream",
     "text": [
      "Your electricity bill is 130.0\n"
     ]
    }
   ],
   "source": [
    "units = int(input('Enter the number of units: '))\n",
    "case = 0\n",
    "if units > 0 and units < 50:\n",
    "    case = 1\n",
    "elif units >= 50 and units < 100:\n",
    "    case = 2\n",
    "elif units >= 100 and units < 200:\n",
    "    case = 3\n",
    "elif units > 200:\n",
    "    case = 4\n",
    "    \n",
    "rate = 0\n",
    "match case:\n",
    "    case 1:\n",
    "        rate = units * 2.6\n",
    "        print(f'Your electricity bill is {rate}')\n",
    "    case 2:\n",
    "        rate = (50 * 2.6) + ((units - 50) * 3.25)\n",
    "        print(f'Your electricity bill is {rate}')\n",
    "    case 3:\n",
    "        rate = (50 * 2.6) + (50 * 3.25) + ((units - 100) * 5.26)\n",
    "        print(f'Your electricity bill is {rate}')\n",
    "    case 4:\n",
    "        rate = (50 * 2.6) + (50 * 3.25) + (100 * 5.26) + ((units - 200) * 8.45)\n",
    "        print(f'Your electricity bill is {rate}')"
   ]
  }
 ],
 "metadata": {
  "kernelspec": {
   "display_name": "Python 3 (ipykernel)",
   "language": "python",
   "name": "python3"
  },
  "language_info": {
   "codemirror_mode": {
    "name": "ipython",
    "version": 3
   },
   "file_extension": ".py",
   "mimetype": "text/x-python",
   "name": "python",
   "nbconvert_exporter": "python",
   "pygments_lexer": "ipython3",
   "version": "3.12.7"
  }
 },
 "nbformat": 4,
 "nbformat_minor": 4
}
