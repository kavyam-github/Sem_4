{
 "cells": [
  {
   "cell_type": "markdown",
   "metadata": {},
   "source": [
    "<a href='https://www.darshan.ac.in/'> <img src='https://www.darshan.ac.in/Content/media/DU_Logo.svg' width=\"250\" height=\"10\"/></a>\n",
    "<pre>\n",
    "<center><b><h1>Python Programming - 2301CS404</b></center>\n",
    "<center><b><h1>Lab - 1</b></center> \n",
    "<center><b><h1>Kavyam Joshi| 23010101114| 27/11/2024</b></center>  \n",
    "    \n",
    "<pre>"
   ]
  },
  {
   "cell_type": "markdown",
   "metadata": {},
   "source": [
    "### 01) WAP to print “Hello World”"
   ]
  },
  {
   "cell_type": "code",
   "execution_count": 1,
   "metadata": {},
   "outputs": [
    {
     "name": "stdout",
     "output_type": "stream",
     "text": [
      "Hello World\n"
     ]
    }
   ],
   "source": [
    "print (\"Hello World\")\n"
   ]
  },
  {
   "cell_type": "markdown",
   "metadata": {},
   "source": [
    "### 02) WAP to print addition of two numbers with and without using input()."
   ]
  },
  {
   "cell_type": "code",
   "execution_count": 10,
   "metadata": {},
   "outputs": [
    {
     "name": "stdout",
     "output_type": "stream",
     "text": [
      "addition of two number is:  15\n"
     ]
    },
    {
     "name": "stdin",
     "output_type": "stream",
     "text": [
      "please enter first number:  10\n",
      "please enter second number:  20\n"
     ]
    },
    {
     "name": "stdout",
     "output_type": "stream",
     "text": [
      "addition of two number is: 30\n"
     ]
    }
   ],
   "source": [
    "#Without taking input\n",
    "a,b=5,10\n",
    "print(\"addition of two number is: \",a+b)\n",
    "\n",
    "#With taking input\n",
    "x=int(input(\"please enter first number: \"));\n",
    "y=int(input(\"please enter second number: \"));\n",
    "print(\"addition of two number is:\",x+y)\n"
   ]
  },
  {
   "cell_type": "markdown",
   "metadata": {},
   "source": [
    "### 03) WAP to check the type of the variable."
   ]
  },
  {
   "cell_type": "code",
   "execution_count": 12,
   "metadata": {},
   "outputs": [
    {
     "name": "stdout",
     "output_type": "stream",
     "text": [
      "<class 'int'>\n",
      "<class 'float'>\n",
      "<class 'str'>\n"
     ]
    }
   ],
   "source": [
    "a=10;\n",
    "b=20.00\n",
    "c=\"darshan\"\n",
    "print(type(a))\n",
    "print(type(b))\n",
    "print(type(c))\n"
   ]
  },
  {
   "cell_type": "markdown",
   "metadata": {},
   "source": [
    "### 04) WAP to calculate simple interest."
   ]
  },
  {
   "cell_type": "code",
   "execution_count": 16,
   "metadata": {},
   "outputs": [
    {
     "name": "stdin",
     "output_type": "stream",
     "text": [
      "enter principal 1000\n",
      "enter rate of interest 10\n",
      "enter time-period 2\n"
     ]
    },
    {
     "name": "stdout",
     "output_type": "stream",
     "text": [
      "simple interest :  200.0\n"
     ]
    }
   ],
   "source": [
    "P=float(input(\"enter principal\"))\n",
    "R=float(input(\"enter rate of interest\"))\n",
    "T=float(input(\"enter time-period\"))\n",
    "ans=(P*R*T)/100\n",
    "print(f\"simple interest : \",ans)"
   ]
  },
  {
   "cell_type": "markdown",
   "metadata": {},
   "source": [
    "### 05) WAP to calculate area and perimeter of a circle."
   ]
  },
  {
   "cell_type": "code",
   "execution_count": 24,
   "metadata": {},
   "outputs": [
    {
     "name": "stdin",
     "output_type": "stream",
     "text": [
      "enter radius 10\n"
     ]
    },
    {
     "name": "stdout",
     "output_type": "stream",
     "text": [
      "Perimeter of a circle:  62.83185307179586\n",
      "Area of circle :  314.1592653589793\n"
     ]
    }
   ],
   "source": [
    "import math\n",
    "R=float(input(\"enter radius\"))\n",
    "ans=2*math.pi*R\n",
    "Ans=math.pi*R**2\n",
    "print(f\"Perimeter of a circle: \",ans)\n",
    "print(f\"Area of circle : \",Ans)"
   ]
  },
  {
   "cell_type": "markdown",
   "metadata": {},
   "source": [
    "### 06) WAP to calculate area of a triangle."
   ]
  },
  {
   "cell_type": "code",
   "execution_count": 28,
   "metadata": {},
   "outputs": [
    {
     "name": "stdin",
     "output_type": "stream",
     "text": [
      "enter breath 5\n",
      "enter height 10\n"
     ]
    },
    {
     "name": "stdout",
     "output_type": "stream",
     "text": [
      "Aera of triangle 25.0\n"
     ]
    }
   ],
   "source": [
    "B=float(input(\"enter breath\"))\n",
    "H=float(input(\"enter height\"))\n",
    "ans=(1/2)*(B*H)\n",
    "print(f\"Aera of triangle\",ans)"
   ]
  },
  {
   "cell_type": "markdown",
   "metadata": {},
   "source": [
    "### 07) WAP to compute quotient and remainder."
   ]
  },
  {
   "cell_type": "code",
   "execution_count": 30,
   "metadata": {},
   "outputs": [
    {
     "name": "stdin",
     "output_type": "stream",
     "text": [
      "enter first number 7\n",
      "enter second number 3\n"
     ]
    },
    {
     "name": "stdout",
     "output_type": "stream",
     "text": [
      "quotient is:  1.0 remainder is:  2.3333333333333335\n"
     ]
    }
   ],
   "source": [
    "A=float(input(\"enter first number\"))\n",
    "B=float(input(\"enter second number\"))\n",
    "ans=(A%B)\n",
    "Ans=(A/B)\n",
    "print(f\"quotient is: \",ans,f\"remainder is: \",Ans)"
   ]
  },
  {
   "cell_type": "markdown",
   "metadata": {},
   "source": [
    "### 08) WAP to convert degree into Fahrenheit and vice versa."
   ]
  },
  {
   "cell_type": "code",
   "execution_count": 9,
   "metadata": {},
   "outputs": [
    {
     "name": "stdin",
     "output_type": "stream",
     "text": [
      "enter temperature in degree celsius 55\n"
     ]
    },
    {
     "name": "stdout",
     "output_type": "stream",
     "text": [
      "temperature in Fahrenheit 131.0\n"
     ]
    },
    {
     "name": "stdin",
     "output_type": "stream",
     "text": [
      "enter temperature in Fahrenheit 143\n"
     ]
    },
    {
     "name": "stdout",
     "output_type": "stream",
     "text": [
      "temperature in degree cesius 61.66666666666667\n"
     ]
    }
   ],
   "source": [
    "C=float(input(\"enter temperature in degree celsius\"))\n",
    "ans=(C*(9/5))+32\n",
    "print(f\"temperature in Fahrenheit\",ans) \n",
    "\n",
    "F=float(input(\"enter temperature in Fahrenheit\"))\n",
    "Ans=((F-32)*(5/9))\n",
    "print(f\"temperature in degree cesius\",Ans)"
   ]
  },
  {
   "cell_type": "markdown",
   "metadata": {},
   "source": [
    "### 09) WAP to find the distance between two points in 2-D space."
   ]
  },
  {
   "cell_type": "code",
   "execution_count": null,
   "metadata": {},
   "outputs": [],
   "source": [
    "x1, x2 = 1, 4\n",
    "y1, y2 = 2, 6\n",
    "\n",
    "distance = math.sqrt((x2 - x1)**2 + (y2 - y1)**2)\n",
    "print(f'Distance between 2 points in 2-D space is {distance}')"
   ]
  },
  {
   "cell_type": "markdown",
   "metadata": {},
   "source": [
    "### 10) WAP to print sum of n natural numbers."
   ]
  },
  {
   "cell_type": "code",
   "execution_count": 5,
   "metadata": {},
   "outputs": [
    {
     "name": "stdin",
     "output_type": "stream",
     "text": [
      "enter natural number:  5\n"
     ]
    },
    {
     "name": "stdout",
     "output_type": "stream",
     "text": [
      "sum of first 5 natural number are:  15\n"
     ]
    }
   ],
   "source": [
    "a=int(input(\"enter natural number: \"))\n",
    "sum=0;\n",
    "for i in range(a+1):sum+=i\n",
    "print(f\"sum of first {a} natural number are: \",sum)"
   ]
  },
  {
   "cell_type": "markdown",
   "metadata": {},
   "source": [
    "### 11) WAP to print sum of square of n natural numbers."
   ]
  },
  {
   "cell_type": "code",
   "execution_count": null,
   "metadata": {},
   "outputs": [],
   "source": [
    "a=int(input(\"enter natural number: \"))\n",
    "sum=0;\n",
    "for i in range(a+1):sum+=(i*i)\n",
    "print(f\"sum of square of first {a} natural number are: \",sum)"
   ]
  },
  {
   "cell_type": "markdown",
   "metadata": {},
   "source": [
    "### 12) WAP to concate the first and last name of the student."
   ]
  },
  {
   "cell_type": "code",
   "execution_count": 9,
   "metadata": {},
   "outputs": [
    {
     "name": "stdin",
     "output_type": "stream",
     "text": [
      "enter your first name kavyam\n",
      "enter your last name joshi\n"
     ]
    },
    {
     "name": "stdout",
     "output_type": "stream",
     "text": [
      "your full name is:  kavyam joshi\n"
     ]
    }
   ],
   "source": [
    "first=input(\"enter your first name\")\n",
    "last=input(\"enter your last name\")\n",
    "name=first+\" \"+last\n",
    "print(f\"your full name is: \",name)"
   ]
  },
  {
   "cell_type": "markdown",
   "metadata": {},
   "source": [
    "### 13) WAP to swap two numbers."
   ]
  },
  {
   "cell_type": "code",
   "execution_count": 27,
   "metadata": {},
   "outputs": [
    {
     "name": "stdin",
     "output_type": "stream",
     "text": [
      "Enter first number :  10\n",
      "Enter Second number :  5\n"
     ]
    },
    {
     "name": "stdout",
     "output_type": "stream",
     "text": [
      "after swapping\n",
      "First number: 5,Second number: 10\n"
     ]
    }
   ],
   "source": [
    "a=int(input(\"Enter first number : \"))\n",
    "b=int(input(\"Enter Second number : \"))\n",
    "print(\"after swapping\")\n",
    "a,b=b,a;\n",
    "print(f\"First number: {a},Second number: {b}\");\n"
   ]
  },
  {
   "cell_type": "markdown",
   "metadata": {},
   "source": [
    "### 14) WAP to get the distance from user into kilometer, and convert it into meter, feet, inches and centimeter."
   ]
  },
  {
   "cell_type": "code",
   "execution_count": 29,
   "metadata": {},
   "outputs": [
    {
     "name": "stdin",
     "output_type": "stream",
     "text": [
      "Enter distance in kilometer:  35\n"
     ]
    },
    {
     "name": "stdout",
     "output_type": "stream",
     "text": [
      "The distance in meter is 35000.0 meters\n",
      "The distance in feet is 114829.40000000001 feet\n",
      "The distance in inches is 1377952.8 inches\n",
      "The distance in centimeters is 3500000.0 centimeters\n"
     ]
    }
   ],
   "source": [
    "distance = float(input('Enter distance in kilometer: '))\n",
    "print(f'The distance in meter is {distance * 1000} meters')\n",
    "print(f'The distance in feet is {distance * 3280.84} feet')\n",
    "print(f'The distance in inches is {distance * 39370.08} inches')\n",
    "print(f'The distance in centimeters is {distance * 100000} centimeters')"
   ]
  },
  {
   "cell_type": "markdown",
   "metadata": {},
   "source": [
    "### 15) WAP to get day, month and year from the user and print the date in the given format: 23-11-2024."
   ]
  },
  {
   "cell_type": "code",
   "execution_count": 31,
   "metadata": {},
   "outputs": [
    {
     "name": "stdin",
     "output_type": "stream",
     "text": [
      "Enter the day:  9\n",
      "Enter the month:  3\n",
      "Enter the year:  2005\n"
     ]
    },
    {
     "name": "stdout",
     "output_type": "stream",
     "text": [
      "The date is 9-3-2005\n"
     ]
    }
   ],
   "source": [
    "day = int(input('Enter the day: '))\n",
    "month = int(input('Enter the month: '))\n",
    "year = int(input('Enter the year: '))\n",
    "\n",
    "print(f'The date is {day}-{month}-{year}')"
   ]
  },
  {
   "cell_type": "code",
   "execution_count": null,
   "metadata": {},
   "outputs": [],
   "source": []
  }
 ],
 "metadata": {
  "kernelspec": {
   "display_name": "Python 3 (ipykernel)",
   "language": "python",
   "name": "python3"
  },
  "language_info": {
   "codemirror_mode": {
    "name": "ipython",
    "version": 3
   },
   "file_extension": ".py",
   "mimetype": "text/x-python",
   "name": "python",
   "nbconvert_exporter": "python",
   "pygments_lexer": "ipython3",
   "version": "3.12.7"
  },
  "vscode": {
   "interpreter": {
    "hash": "31f2aee4e71d21fbe5cf8b01ff0e069b9275f58929596ceb00d14d90e3e16cd6"
   }
  }
 },
 "nbformat": 4,
 "nbformat_minor": 4
}
