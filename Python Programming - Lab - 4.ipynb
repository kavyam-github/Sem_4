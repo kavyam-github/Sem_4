{
 "cells": [
  {
   "cell_type": "markdown",
   "metadata": {},
   "source": [
    "\n",
    "<a href='https://www.darshan.ac.in/'> <img src='https://www.darshan.ac.in/Content/media/DU_Logo.svg' width=\"250\" height=\"300\"/></a>\n",
    "<pre>\n",
    "<center><b><h1>Python Programming - 2301CS404</b></center>\n",
    "<center><b><h1>Lab - 4</b></center>  \n",
    "<center><b><h1>Kavyam Joshi | 23010101114 | 18-12-2024</b></center>\n",
    "<pre>"
   ]
  },
  {
   "cell_type": "markdown",
   "metadata": {},
   "source": [
    "# String"
   ]
  },
  {
   "cell_type": "markdown",
   "metadata": {},
   "source": [
    "### 01) WAP to check whether the given string is palindrome or not."
   ]
  },
  {
   "cell_type": "code",
   "execution_count": 3,
   "metadata": {},
   "outputs": [
    {
     "name": "stdout",
     "output_type": "stream",
     "text": [
      "Enter String ababa\n"
     ]
    },
    {
     "name": "stdout",
     "output_type": "stream",
     "text": [
      "Entered String ababa is palindrome\n"
     ]
    }
   ],
   "source": [
    "String=input(\"Enter String\");\n",
    "Reverse=String[::-1]\n",
    "if(String==Reverse):\n",
    "    print(f\"Entered String {String} is palindrome\")\n",
    "else:\n",
    "    print(f\"Entered String {String} is not palindrome\")\n",
    "    "
   ]
  },
  {
   "cell_type": "markdown",
   "metadata": {},
   "source": [
    "### 02) WAP to reverse the words in the given string."
   ]
  },
  {
   "cell_type": "code",
   "execution_count": 6,
   "metadata": {},
   "outputs": [
    {
     "name": "stdout",
     "output_type": "stream",
     "text": [
      "Enter String malay\n"
     ]
    },
    {
     "name": "stdout",
     "output_type": "stream",
     "text": [
      "Reversed String :yalam\n"
     ]
    }
   ],
   "source": [
    "String=input(\"Enter String\");\n",
    "Reverse=String[::-1]\n",
    "print(f\"Reversed String :{Reverse}\");"
   ]
  },
  {
   "cell_type": "markdown",
   "metadata": {},
   "source": [
    "### 03) WAP to remove ith character from given string."
   ]
  },
  {
   "cell_type": "code",
   "execution_count": 9,
   "metadata": {},
   "outputs": [
    {
     "name": "stdout",
     "output_type": "stream",
     "text": [
      "Enter String malay\n",
      "Enter position where you want to delete :  0\n"
     ]
    },
    {
     "name": "stdout",
     "output_type": "stream",
     "text": [
      "Modified String :  alay\n"
     ]
    }
   ],
   "source": [
    "String=input(\"Enter String\");\n",
    "index=int(input(\"Enter position where you want to delete : \"))\n",
    "if index<0 or index>=len(String):\n",
    "    print(\"Index out of range\");\n",
    "else:\n",
    "    String=String[:index]+String[index+1:]\n",
    "    print(\"Modified String : \",String);"
   ]
  },
  {
   "cell_type": "markdown",
   "metadata": {},
   "source": [
    "### 04) WAP to find length of string without using len function."
   ]
  },
  {
   "cell_type": "code",
   "execution_count": 11,
   "metadata": {},
   "outputs": [
    {
     "name": "stdout",
     "output_type": "stream",
     "text": [
      "Enter String malay\n"
     ]
    },
    {
     "name": "stdout",
     "output_type": "stream",
     "text": [
      "Length of entered String is 5\n"
     ]
    }
   ],
   "source": [
    "String=input(\"Enter String\");\n",
    "length=0;\n",
    "for i in String:\n",
    "    length+=1\n",
    "print(f\"Length of entered String is {length}\")\n"
   ]
  },
  {
   "cell_type": "markdown",
   "metadata": {},
   "source": [
    "### 05) WAP to print even length word in string."
   ]
  },
  {
   "cell_type": "code",
   "execution_count": 14,
   "metadata": {},
   "outputs": [
    {
     "name": "stdout",
     "output_type": "stream",
     "text": [
      "Enter String malay\n"
     ]
    },
    {
     "name": "stdout",
     "output_type": "stream",
     "text": [
      "Please enterd word which has total even letters in it\n"
     ]
    }
   ],
   "source": [
    "String=input(\"Enter String\");\n",
    "words=String.split()\n",
    "for word in words:\n",
    "    if len(word)%2==0:\n",
    "        print(word)\n",
    "    else:\n",
    "        print(\"Please enterd word which has total even letters in it\");"
   ]
  },
  {
   "cell_type": "markdown",
   "metadata": {},
   "source": [
    "### 06) WAP to count numbers of vowels in given string."
   ]
  },
  {
   "cell_type": "code",
   "execution_count": 17,
   "metadata": {},
   "outputs": [
    {
     "name": "stdout",
     "output_type": "stream",
     "text": [
      "Enter String malayieo\n"
     ]
    },
    {
     "name": "stdout",
     "output_type": "stream",
     "text": [
      "The number of vowel is 5\n"
     ]
    }
   ],
   "source": [
    "String=input(\"Enter String\");\n",
    "count=0;\n",
    "for i in String:\n",
    "    if(i=='a' or i=='e' or i=='i' or i=='o' or i=='u'):\n",
    "     count+=1;\n",
    "print(f\"The number of vowel is {count}\");    "
   ]
  },
  {
   "cell_type": "markdown",
   "metadata": {},
   "source": [
    "### 07) WAP to capitalize the first and last character of each word in a string."
   ]
  },
  {
   "cell_type": "code",
   "execution_count": 22,
   "metadata": {},
   "outputs": [
    {
     "name": "stdout",
     "output_type": "stream",
     "text": [
      "Enter String gfhgh\n"
     ]
    },
    {
     "name": "stdout",
     "output_type": "stream",
     "text": [
      "Modified String :  GfhgH\n"
     ]
    }
   ],
   "source": [
    "String=input(\"Enter String\");\n",
    "words=String.split();\n",
    "result=[]\n",
    "for word in words:\n",
    "    if len(word)>1:\n",
    "        word=word[0].upper()+word[1:-1]+word[-1].upper()\n",
    "    else:\n",
    "        word=word.upper()\n",
    "    result.append(word)\n",
    "output=' '.join(result)\n",
    "print(\"Modified String : \",output);\n"
   ]
  },
  {
   "cell_type": "markdown",
   "metadata": {},
   "source": [
    "### 08) WAP to convert given array to string."
   ]
  },
  {
   "cell_type": "code",
   "execution_count": 28,
   "metadata": {},
   "outputs": [
    {
     "name": "stdout",
     "output_type": "stream",
     "text": [
      "Converted into String : Hello World From World\n"
     ]
    }
   ],
   "source": [
    "array=[\"Hello\",\"World\",\"From\",\"World\"]\n",
    "result=\" \".join(array)\n",
    "print(f\"Converted into String : {result}\");"
   ]
  },
  {
   "cell_type": "markdown",
   "metadata": {},
   "source": [
    "### 09) Check if the password and confirm password is same or not. \n",
    "### In case of only case's mistake, show the error message."
   ]
  },
  {
   "cell_type": "code",
   "execution_count": 30,
   "metadata": {},
   "outputs": [
    {
     "name": "stdout",
     "output_type": "stream",
     "text": [
      "Enter Password :  Kavyam\n",
      "Enter Confirm_Password :  kavyam\n"
     ]
    },
    {
     "name": "stdout",
     "output_type": "stream",
     "text": [
      "Case mistake\n"
     ]
    }
   ],
   "source": [
    "Password=input(\"Enter Password : \");\n",
    "Confirm_Password=input(\"Enter Confirm_Password : \");\n",
    "if Password==Confirm_Password:\n",
    "    print(\"Password Correct\");\n",
    "elif Password.lower()==Confirm_Password.lower():\n",
    "    print(\"Case mistake\");\n",
    "else:\n",
    "    print(\"Password unmatched\");\n",
    "    "
   ]
  },
  {
   "cell_type": "markdown",
   "metadata": {},
   "source": [
    "### 10) : Display credit card number. \n",
    "### card no. : 1234 5678 9012 3456\n",
    "### display as  : **** **** **** 3456"
   ]
  },
  {
   "cell_type": "code",
   "execution_count": 1,
   "metadata": {},
   "outputs": [
    {
     "name": "stdin",
     "output_type": "stream",
     "text": [
      "Enter the credit card number (with spaces):  1234 5678 9012 3456\n"
     ]
    },
    {
     "name": "stdout",
     "output_type": "stream",
     "text": [
      "Masked card number: **** **** **** 3456\n"
     ]
    }
   ],
   "source": [
    "card_number = input(\"Enter the credit card number (with spaces): \")\n",
    "\n",
    "if ''.join(card_number.split()).isnumeric() and len(card_number) == 19:\n",
    "    parts = card_number.split()\n",
    "    masked_parts = ['****'] * (len(parts) - 1) + [parts[-1]]\n",
    "    masked_card = ' '.join(masked_parts)\n",
    "    print(\"Masked card number:\", masked_card);\n",
    "else:\n",
    "    print(\"Invalid card number\");"
   ]
  },
  {
   "cell_type": "markdown",
   "metadata": {},
   "source": [
    "### 11) : Checking if the two strings are Anagram or not.\n",
    "### s1 = decimal and s2 = medical are Anagram"
   ]
  },
  {
   "cell_type": "code",
   "execution_count": 4,
   "metadata": {},
   "outputs": [
    {
     "name": "stdin",
     "output_type": "stream",
     "text": [
      "Enter the first string:  gum\n",
      "Enter the second string:  mug\n"
     ]
    },
    {
     "name": "stdout",
     "output_type": "stream",
     "text": [
      "\"gum\" and \"mug\" are Anagrams.\n"
     ]
    }
   ],
   "source": [
    "s1 = input(\"Enter the first string: \")\n",
    "s2 = input(\"Enter the second string: \")\n",
    "\n",
    "s1 = s1.replace(\" \", \"\").lower()\n",
    "s2 = s2.replace(\" \", \"\").lower()\n",
    "\n",
    "if sorted(s1) == sorted(s2):\n",
    "    print(f'\"{s1}\" and \"{s2}\" are Anagrams.')\n",
    "else:\n",
    "    print(f'\"{s1}\" and \"{s2}\" are not Anagrams.')"
   ]
  },
  {
   "cell_type": "markdown",
   "metadata": {},
   "source": [
    "### 12) : Rearrange the given string. First lowercase then uppercase alphabets.\n",
    "### input : EHlsarwiwhtwMV\n",
    "### output : lsarwiwhtwEHMV"
   ]
  },
  {
   "cell_type": "code",
   "execution_count": 5,
   "metadata": {},
   "outputs": [
    {
     "name": "stdin",
     "output_type": "stream",
     "text": [
      "Enter the string:  Kavyam\n"
     ]
    },
    {
     "name": "stdout",
     "output_type": "stream",
     "text": [
      "Rearranged string: avyamK\n"
     ]
    }
   ],
   "source": [
    "string = input(\"Enter the string: \")\n",
    "\n",
    "lowercase = ''.join([char for char in string if char.islower()])\n",
    "uppercase = ''.join([char for char in string if char.isupper()])\n",
    "result = lowercase + uppercase\n",
    "\n",
    "print(\"Rearranged string:\", result);"
   ]
  }
 ],
 "metadata": {
  "kernelspec": {
   "display_name": "Python 3 (ipykernel)",
   "language": "python",
   "name": "python3"
  },
  "language_info": {
   "codemirror_mode": {
    "name": "ipython",
    "version": 3
   },
   "file_extension": ".py",
   "mimetype": "text/x-python",
   "name": "python",
   "nbconvert_exporter": "python",
   "pygments_lexer": "ipython3",
   "version": "3.12.7"
  },
  "vscode": {
   "interpreter": {
    "hash": "31f2aee4e71d21fbe5cf8b01ff0e069b9275f58929596ceb00d14d90e3e16cd6"
   }
  }
 },
 "nbformat": 4,
 "nbformat_minor": 4
}
